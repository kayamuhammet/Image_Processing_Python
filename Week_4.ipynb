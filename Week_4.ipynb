{
 "cells": [
  {
   "cell_type": "markdown",
   "id": "18a7dba2",
   "metadata": {},
   "source": [
    "### Python Data Types"
   ]
  },
  {
   "cell_type": "code",
   "execution_count": 99,
   "id": "c0cba0a8",
   "metadata": {},
   "outputs": [
    {
     "name": "stdout",
     "output_type": "stream",
     "text": [
      "Integer example: 10\n",
      "Float example: 3.14\n",
      "Complex example: (2+3j)\n"
     ]
    }
   ],
   "source": [
    "# --Numbers--\n",
    "# Integer example\n",
    "x = 10\n",
    "print(\"Integer example:\", x)\n",
    "\n",
    "# Float example\n",
    "y = 3.14\n",
    "print(\"Float example:\", y)\n",
    "\n",
    "# Complex example\n",
    "z = 2 + 3j\n",
    "print(\"Complex example:\", z)"
   ]
  },
  {
   "cell_type": "code",
   "execution_count": 100,
   "id": "f08f9d7f",
   "metadata": {},
   "outputs": [
    {
     "name": "stdout",
     "output_type": "stream",
     "text": [
      "Boolean examples: True False\n"
     ]
    }
   ],
   "source": [
    "# --Bool--\n",
    "# Boolean examples\n",
    "bool_1 = True\n",
    "bool_2 = False\n",
    "print(\"Boolean examples:\", bool_1, bool_2)"
   ]
  },
  {
   "cell_type": "code",
   "execution_count": 101,
   "id": "4fa172ab",
   "metadata": {},
   "outputs": [
    {
     "name": "stdout",
     "output_type": "stream",
     "text": [
      "Set example: {1, 2, 3, 4, 5}\n"
     ]
    }
   ],
   "source": [
    "# --Set--\n",
    "# Set example\n",
    "my_set = {1, 2, 3, 4, 5}\n",
    "print(\"Set example:\", my_set)"
   ]
  },
  {
   "cell_type": "code",
   "execution_count": 102,
   "id": "90aa0345",
   "metadata": {},
   "outputs": [
    {
     "name": "stdout",
     "output_type": "stream",
     "text": [
      "Dictionary example: {'name': 'Muhammet', 'age': 24, 'city': 'Istanbul'}\n"
     ]
    }
   ],
   "source": [
    "# --Dictionary--\n",
    "# Dictionary example\n",
    "my_dict = {\"name\": \"Muhammet\", \"age\": 24, \"city\": \"Istanbul\"}\n",
    "print(\"Dictionary example:\", my_dict)"
   ]
  },
  {
   "cell_type": "code",
   "execution_count": 103,
   "id": "8150786f",
   "metadata": {},
   "outputs": [
    {
     "name": "stdout",
     "output_type": "stream",
     "text": [
      "String example: Hello, World!\n",
      "List example: [1, 2, 3, 4, 5]\n",
      "Tuple example: (6, 7, 8, 9, 10)\n"
     ]
    }
   ],
   "source": [
    "# --Sequence--\n",
    "# String example\n",
    "my_string = \"Hello, World!\"\n",
    "print(\"String example:\", my_string)\n",
    "\n",
    "# List example\n",
    "my_list = [1, 2, 3, 4, 5]\n",
    "print(\"List example:\", my_list)\n",
    "\n",
    "# Tuple example\n",
    "my_tuple = (6, 7, 8, 9, 10)\n",
    "print(\"Tuple example:\", my_tuple)"
   ]
  },
  {
   "cell_type": "markdown",
   "id": "1413fa95",
   "metadata": {},
   "source": [
    "**Read and Write images in Python**"
   ]
  },
  {
   "cell_type": "code",
   "execution_count": 104,
   "id": "7bcb0888",
   "metadata": {},
   "outputs": [],
   "source": [
    "#!pip list"
   ]
  },
  {
   "cell_type": "code",
   "execution_count": 105,
   "id": "02802341",
   "metadata": {},
   "outputs": [],
   "source": [
    "import cv2\n",
    "import numpy as np\n",
    "import matplotlib.pyplot as plt"
   ]
  },
  {
   "cell_type": "code",
   "execution_count": 106,
   "id": "3a2a98d6",
   "metadata": {},
   "outputs": [
    {
     "name": "stdout",
     "output_type": "stream",
     "text": [
      "4.8.1\n"
     ]
    }
   ],
   "source": [
    "print(cv2.__version__)"
   ]
  },
  {
   "cell_type": "code",
   "execution_count": 107,
   "id": "52c7667a",
   "metadata": {},
   "outputs": [],
   "source": [
    "image1 = cv2.imread(\"C:\\Image\\Brain.jpg\")"
   ]
  },
  {
   "cell_type": "code",
   "execution_count": 108,
   "id": "774dd29a",
   "metadata": {},
   "outputs": [],
   "source": [
    "cv2.imshow(\"Brain\", image1)\n",
    "cv2.waitKey(0)\n",
    "cv2.destroyAllWindows()"
   ]
  },
  {
   "cell_type": "code",
   "execution_count": 86,
   "id": "20b75d4a",
   "metadata": {},
   "outputs": [
    {
     "name": "stdout",
     "output_type": "stream",
     "text": [
      "2764800\n"
     ]
    }
   ],
   "source": [
    "# to find out the size of the image\n",
    "print(image1.size) # h * w * c"
   ]
  },
  {
   "cell_type": "code",
   "execution_count": 87,
   "id": "e347268c",
   "metadata": {},
   "outputs": [
    {
     "name": "stdout",
     "output_type": "stream",
     "text": [
      "uint8\n"
     ]
    }
   ],
   "source": [
    "# to find the data type of the image\n",
    "print(image1.dtype)"
   ]
  },
  {
   "cell_type": "code",
   "execution_count": 88,
   "id": "73edbb0d",
   "metadata": {},
   "outputs": [
    {
     "name": "stdout",
     "output_type": "stream",
     "text": [
      "(720, 1280, 3)\n"
     ]
    }
   ],
   "source": [
    "#to find out the width and height of the image and how many channels it consists of\n",
    "print(image1.shape)"
   ]
  },
  {
   "cell_type": "code",
   "execution_count": 89,
   "id": "4c5478da",
   "metadata": {},
   "outputs": [
    {
     "data": {
      "text/plain": [
       "2764800"
      ]
     },
     "execution_count": 89,
     "metadata": {},
     "output_type": "execute_result"
    }
   ],
   "source": [
    "720 * 1280 * 3 # h * w * c"
   ]
  },
  {
   "cell_type": "code",
   "execution_count": 90,
   "id": "092b9214",
   "metadata": {},
   "outputs": [
    {
     "data": {
      "image/png": "[encoded data removed]",
      "text/plain": [
       "<Figure size 1000x400 with 1 Axes>"
      ]
     },
     "metadata": {},
     "output_type": "display_data"
    }
   ],
   "source": [
    "# matrix creation\n",
    "\n",
    "row = 256\n",
    "col = 256\n",
    "\n",
    "img = np.zeros((row,col))\n",
    "img[100:110, :] = 0.5\n",
    "img[:, 100:110] = 1\n",
    "\n",
    "plt.figure(figsize=(10,4))\n",
    "plt.imshow(img)\n",
    "plt.show()"
   ]
  },
  {
   "cell_type": "code",
   "execution_count": 91,
   "id": "f290fdd2",
   "metadata": {},
   "outputs": [],
   "source": [
    "# Binary Image\n",
    "\n",
    "height = 512\n",
    "width = 512\n",
    "img = np.random.randint(255, size=(height, width, 1), dtype=np.uint8)\n",
    "cv2.imshow(\"Binary\", img)\n",
    "cv2.waitKey(0)\n",
    "cv2.destroyAllWindows()"
   ]
  },
  {
   "cell_type": "code",
   "execution_count": 92,
   "id": "6f2792c3",
   "metadata": {},
   "outputs": [
    {
     "name": "stdout",
     "output_type": "stream",
     "text": [
      "7. Index:  15\n",
      "Tranpose:  [ 1  3  5  7  9 11 13 15 17 19]\n",
      "Index 1-4: [3, 5, 7, 9]\n",
      "Index 2-4: [5, 7]\n",
      "Index 6 to the end:  [13, 15, 17, 19]\n",
      "Print all elements by skipping 5 from the first element:  [1, 13]\n",
      "Writes in reverse order, skipping 1 from the last element:  [19, 15, 11, 7, 3]\n"
     ]
    }
   ],
   "source": [
    "# Indexing in Vectors\n",
    "\n",
    "v = [1, 3, 5, 7, 9, 11, 13, 15, 17, 19]\n",
    "\n",
    "value = v[7]\n",
    "print(\"7. Index: \",value)\n",
    "\n",
    "w = np.transpose(v)\n",
    "print(\"Tranpose: \", w)\n",
    "\n",
    "print(\"Index 1-4:\",v[1:5])\n",
    "print(\"Index 2-4:\",v[2:4])\n",
    "print(\"Index 6 to the end: \",v[6:])\n",
    "print(\"Print all elements by skipping 5 from the first element: \",v[0::6])\n",
    "print(\"Writes in reverse order, skipping 1 from the last element: \", v[::-2])"
   ]
  },
  {
   "cell_type": "code",
   "execution_count": 93,
   "id": "b5949cf7",
   "metadata": {},
   "outputs": [
    {
     "name": "stdout",
     "output_type": "stream",
     "text": [
      "X = [[2, 4, 6], [1, -3, 5], [8, 10, -20], [0, -2, -13]]\n",
      "2nd Row:  [1, -3, 5]\n",
      "3rd element of the 2nd row:  5\n",
      "last element of the first row:  6\n"
     ]
    }
   ],
   "source": [
    "X = [[2, 4, 6],  # Nested list\n",
    "     [1, -3, 5],\n",
    "     [8, 10, -20],\n",
    "     [0, -2, -13]]\n",
    "\n",
    "print(\"X =\", X)\n",
    "print(\"2nd Row: \", X[1])\n",
    "print(\"3rd element of the 2nd row: \", X[1][2])\n",
    "print(\"last element of the first row: \", X[0][-1])\n"
   ]
  },
  {
   "cell_type": "code",
   "execution_count": 94,
   "id": "32bba4be",
   "metadata": {},
   "outputs": [
    {
     "name": "stdout",
     "output_type": "stream",
     "text": [
      "type: <class 'numpy.ndarray'>\n",
      "a = \n",
      " [[  2   4   6]\n",
      " [  1  -3   5]\n",
      " [  8  10 -20]\n",
      " [  0  -2 -13]] \n",
      "\n",
      "2nd Row:  [ 1 -3  5]\n",
      "3rd element of the 2nd row:  5\n",
      "last element of the first row:  6\n"
     ]
    }
   ],
   "source": [
    "x = np.array([[2, 4, 6],\n",
    "              [1, -3, 5],\n",
    "              [8, 10, -20],\n",
    "              [0, -2, -13]])\n",
    "\n",
    "print(\"type:\", type(x))\n",
    "\n",
    "print(\"a =\", \"\\n\", x, \"\\n\")\n",
    "\n",
    "print(\"2nd Row: \", x[1])\n",
    "print(\"3rd element of the 2nd row: \", X[1][2])\n",
    "print(\"last element of the first row: \", X[0][-1])"
   ]
  },
  {
   "cell_type": "code",
   "execution_count": 95,
   "id": "e27a2f5a",
   "metadata": {},
   "outputs": [
    {
     "name": "stdout",
     "output_type": "stream",
     "text": [
      "[ 5  6 30]\n"
     ]
    }
   ],
   "source": [
    "# : -> whole row\n",
    "# 2 -> 2nd index column\n",
    "\n",
    "y = np.array([[1,3,5], [2,4,6], [10,20,30]])\n",
    "print(y[:,2])"
   ]
  },
  {
   "cell_type": "code",
   "execution_count": 96,
   "id": "a6bb8bfb",
   "metadata": {},
   "outputs": [
    {
     "name": "stdout",
     "output_type": "stream",
     "text": [
      "Resulting Matrix B:\n",
      "[[10 13  0]\n",
      " [22 24  0]\n",
      " [39 38  0]]\n"
     ]
    }
   ],
   "source": [
    "# Example\n",
    "# A matrix B whose third column is 0, but whose other columns are equal to A\n",
    "\n",
    "\n",
    "\n",
    "# Let's create the 'A' matrix\n",
    "A = np.array([[10, 13, 15], [22, 24, 26], [39, 38, 37]])\n",
    "\n",
    "# Let's create an empty 'B' matrix\n",
    "B = np.zeros_like(A)\n",
    "\n",
    "# Let's set all columns of matrix 'B' equal to matrix 'A'\n",
    "B[:, :] = A\n",
    "\n",
    "# Identify the columns where the third column is 0\n",
    "B[:, 2] = 0\n",
    "\n",
    "# Display the resulting matrix\n",
    "print(\"Resulting Matrix B:\")\n",
    "print(B)"
   ]
  },
  {
   "cell_type": "code",
   "execution_count": 97,
   "id": "40178fbf",
   "metadata": {},
   "outputs": [
    {
     "name": "stdout",
     "output_type": "stream",
     "text": [
      "Resulting Matrix A:\n",
      "[[10 13 15]\n",
      " [22 24 26]\n",
      " [39 38 37]]\n"
     ]
    }
   ],
   "source": [
    "print(\"Resulting Matrix A:\")\n",
    "print(A)"
   ]
  },
  {
   "cell_type": "code",
   "execution_count": 98,
   "id": "634d41ee",
   "metadata": {},
   "outputs": [
    {
     "name": "stdout",
     "output_type": "stream",
     "text": [
      "[13 27 41]\n",
      "[13 27 41]\n"
     ]
    }
   ],
   "source": [
    "# Example\n",
    "# sum(C[:]) and sum(C) have the same meaning.\n",
    "\n",
    "C = np.array([[1,3,5],[2,4,6],[10,20,30]])\n",
    "x = sum(C[:])\n",
    "print(x)\n",
    "\n",
    "y = sum(C)\n",
    "print(y)"
   ]
  },
  {
   "cell_type": "code",
   "execution_count": null,
   "id": "b29b3368",
   "metadata": {},
   "outputs": [],
   "source": []
  }
 ],
 "metadata": {
  "kernelspec": {
   "display_name": "Python 3 (ipykernel)",
   "language": "python",
   "name": "python3"
  },
  "language_info": {
   "codemirror_mode": {
    "name": "ipython",
    "version": 3
   },
   "file_extension": ".py",
   "mimetype": "text/x-python",
   "name": "python",
   "nbconvert_exporter": "python",
   "pygments_lexer": "ipython3",
   "version": "3.11.5"
  }
 },
 "nbformat": 4,
 "nbformat_minor": 5
}
