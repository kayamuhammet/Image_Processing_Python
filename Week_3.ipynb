{
 "cells": [
  {
   "cell_type": "code",
   "execution_count": 1,
   "id": "f488e585-e007-4fbc-9947-a69b221d1ef2",
   "metadata": {},
   "outputs": [
    {
     "name": "stdout",
     "output_type": "stream",
     "text": [
      "[[1 2 3]\n",
      " [3 4 5]]\n"
     ]
    }
   ],
   "source": [
    "import numpy as np\n",
    "a = np.array([[1,2,3],[3,4,5]])\n",
    "print(a)"
   ]
  },
  {
   "cell_type": "code",
   "execution_count": 2,
   "id": "8620b4a8-0eda-406d-883d-d338d2dedeee",
   "metadata": {},
   "outputs": [
    {
     "name": "stdout",
     "output_type": "stream",
     "text": [
      "[[0. 0. 0.]\n",
      " [0. 0. 0.]]\n"
     ]
    }
   ],
   "source": [
    "array = np.zeros((2,3))\n",
    "print(array)"
   ]
  },
  {
   "cell_type": "code",
   "execution_count": 3,
   "id": "8eb800c5-232f-491a-b31c-452ed99f08f9",
   "metadata": {},
   "outputs": [
    {
     "name": "stdout",
     "output_type": "stream",
     "text": [
      "[[1. 1. 1. 1. 1.]]\n"
     ]
    }
   ],
   "source": [
    "array_2 = np.ones((1,5))\n",
    "print(array_2)"
   ]
  },
  {
   "cell_type": "code",
   "execution_count": 13,
   "id": "ecab2aaf-9bf7-46ce-ba97-6288a849cace",
   "metadata": {},
   "outputs": [
    {
     "name": "stdout",
     "output_type": "stream",
     "text": [
      "Numpy eye array:\n",
      "[[1. 0. 0.]\n",
      " [0. 1. 0.]\n",
      " [0. 0. 1.]]\n"
     ]
    }
   ],
   "source": [
    "# Numpy.eye()\n",
    "eye_array = np.eye(3) # creates a 3x3 identity matrix\n",
    "print(\"Numpy eye array:\")\n",
    "print(eye_array)\n"
   ]
  },
  {
   "cell_type": "code",
   "execution_count": 15,
   "id": "0a23aa71-586d-4393-b09d-50a00f3a2dde",
   "metadata": {},
   "outputs": [
    {
     "name": "stdout",
     "output_type": "stream",
     "text": [
      "\n",
      "Numpy random array (normal distribution):\n",
      "[[ 1.08733222 -0.44446154 -0.75663539  1.1352426 ]\n",
      " [-0.24388759 -0.48419223 -0.80359691 -0.2208802 ]\n",
      " [ 1.51736237  1.70121138  0.07355302 -0.97198788]]\n"
     ]
    }
   ],
   "source": [
    "# Numpy.random.randn()\n",
    "random_array = np.random.randn(3, 4) # creates a 3x4 array of random numbers from a normal distribution\n",
    "print(\"\\nNumpy random array (normal distribution):\")\n",
    "print(random_array)"
   ]
  },
  {
   "cell_type": "code",
   "execution_count": 16,
   "id": "66fea3b6",
   "metadata": {},
   "outputs": [
    {
     "name": "stdout",
     "output_type": "stream",
     "text": [
      "\n",
      "Numpy random array (uniform distribution):\n",
      "[[0.82938266 0.53349807 0.67968855 0.54444557]\n",
      " [0.50992382 0.91224172 0.73337213 0.66255704]\n",
      " [0.05269124 0.16607922 0.84188952 0.40555458]]\n"
     ]
    }
   ],
   "source": [
    "# Numpy.random.rand()\n",
    "random_array_uniform = np.random.rand(3, 4) # creates a 3x4 array of random numbers from a uniform distribution in the range [0,1)\n",
    "print(\"\\nNumpy random array (uniform distribution):\")\n",
    "print(random_array_uniform)"
   ]
  },
  {
   "cell_type": "code",
   "execution_count": 17,
   "id": "d278c2a6",
   "metadata": {},
   "outputs": [
    {
     "name": "stdout",
     "output_type": "stream",
     "text": [
      "\n",
      "Numpy matrix:\n",
      "[[1 2]\n",
      " [3 4]]\n"
     ]
    }
   ],
   "source": [
    "# Numpy.matrix()\n",
    "mat = np.matrix([[1, 2], [3, 4]]) # creates a 2x2 matrix\n",
    "print(\"\\nNumpy matrix:\")\n",
    "print(mat)"
   ]
  },
  {
   "cell_type": "code",
   "execution_count": 47,
   "id": "3e45a1d7",
   "metadata": {},
   "outputs": [
    {
     "name": "stdout",
     "output_type": "stream",
     "text": [
      "Dot Product:\n",
      "[[19 22]\n",
      " [43 50]]\n",
      "\n",
      "Transpose:\n",
      "[[1 3]\n",
      " [2 4]]\n",
      "\n",
      "Element-wise multiplication:\n",
      "[[ 5 12]\n",
      " [21 32]]\n",
      "\n",
      "Matrix multiplication:\n",
      "[[19 22]\n",
      " [43 50]]\n",
      "\n",
      "Element-wise addition:\n",
      "[[ 6  8]\n",
      " [10 12]]\n",
      "\n",
      "Element-wise subtraction:\n",
      "[[-4 -4]\n",
      " [-4 -4]]\n",
      "\n",
      "Element-wise division:\n",
      "[[0.2        0.33333333]\n",
      " [0.42857143 0.5       ]]\n",
      "\n",
      "Shape of the array:\n",
      "(2, 2)\n",
      "\n",
      "Inverse of a square matrix:\n",
      "[[-2.   1. ]\n",
      " [ 1.5 -0.5]]\n",
      "\n",
      "Power of a square matrix:\n",
      "[[ 37  54]\n",
      " [ 81 118]]\n",
      "\n",
      "Number of elements in the array: \n",
      "4\n"
     ]
    }
   ],
   "source": [
    "# NumPy Array Operations\n",
    "arr1 = np.array([[1, 2], [3, 4]])\n",
    "arr2 = np.array([[5, 6], [7, 8]])\n",
    "print(\"Dot Product:\")\n",
    "print(np.dot(arr1, arr2))  # Dot product\n",
    "\n",
    "print(\"\\nTranspose:\")\n",
    "print(arr1.T)  # Transpose\n",
    "\n",
    "print(\"\\nElement-wise multiplication:\")\n",
    "print(np.multiply(arr1, arr2))  # Element-wise multiplication\n",
    "\n",
    "print(\"\\nMatrix multiplication:\")\n",
    "print(np.matmul(arr1, arr2))  # Matrix multiplication\n",
    "\n",
    "print(\"\\nElement-wise addition:\")\n",
    "print(np.add(arr1, arr2))  # Element-wise addition\n",
    "\n",
    "print(\"\\nElement-wise subtraction:\")\n",
    "print(np.subtract(arr1, arr2))  # Element-wise subtraction\n",
    "\n",
    "print(\"\\nElement-wise division:\")\n",
    "print(np.divide(arr1, arr2))  # Element-wise division\n",
    "\n",
    "print(\"\\nShape of the array:\")\n",
    "print(arr1.shape)  # Shape of the array\n",
    "\n",
    "print(\"\\nInverse of a square matrix:\")\n",
    "print(np.linalg.inv(arr1))  # Inverse of a square matrix\n",
    "\n",
    "print(\"\\nPower of a square matrix:\")\n",
    "print(np.linalg.matrix_power(arr1, 3))  # Power of a square matrix\n",
    "\n",
    "print(\"\\nNumber of elements in the array: \")\n",
    "print(arr1.size)  # Number of elements in the array"
   ]
  },
  {
   "cell_type": "markdown",
   "id": "69c40e3a",
   "metadata": {},
   "source": [
    "# PYTHON"
   ]
  },
  {
   "cell_type": "code",
   "execution_count": 50,
   "id": "e38c5595",
   "metadata": {},
   "outputs": [
    {
     "name": "stdout",
     "output_type": "stream",
     "text": [
      "13\n",
      "7\n",
      "30\n",
      "3.3333333333333335\n",
      "3\n",
      "1\n",
      "1000\n"
     ]
    }
   ],
   "source": [
    "import math\n",
    "\n",
    "# Arithmetic Operations\n",
    "a = 10\n",
    "b = 3\n",
    "print(a + b)  # Addition\n",
    "print(a - b)  # Subtraction\n",
    "print(a * b)  # Multiplication\n",
    "print(a / b)  # Division\n",
    "print(a // b) # Integer Division\n",
    "print(a % b)  # Modulus\n",
    "print(a ** b) # Exponentiation\n"
   ]
  },
  {
   "cell_type": "code",
   "execution_count": 51,
   "id": "cacfbbac",
   "metadata": {},
   "outputs": [
    {
     "name": "stdout",
     "output_type": "stream",
     "text": [
      "Assignment: 5\n",
      "Addition and Assignment: 8\n",
      "Subtraction and Assignment: 5\n",
      "Multiplication and Assignment: 15\n",
      "Division and Assignment: 7.5\n",
      "Modulus and Assignment: 1.5\n",
      "Exponentiation and Assignment: 3.375\n"
     ]
    }
   ],
   "source": [
    "a = 5\n",
    "\n",
    "# Assignment\n",
    "b = a\n",
    "print(\"Assignment:\", b)\n",
    "\n",
    "# Addition and Assignment\n",
    "a += 3\n",
    "print(\"Addition and Assignment:\", a)\n",
    "\n",
    "# Subtraction and Assignment\n",
    "a -= 3\n",
    "print(\"Subtraction and Assignment:\", a)\n",
    "\n",
    "# Multiplication and Assignment\n",
    "a *= 3\n",
    "print(\"Multiplication and Assignment:\", a)\n",
    "\n",
    "# Division and Assignment\n",
    "a /= 2\n",
    "print(\"Division and Assignment:\", a)\n",
    "\n",
    "# Modulus and Assignment\n",
    "a %= 3\n",
    "print(\"Modulus and Assignment:\", a)\n",
    "\n",
    "# Exponentiation and Assignment\n",
    "a **= 3\n",
    "print(\"Exponentiation and Assignment:\", a)\n"
   ]
  },
  {
   "cell_type": "markdown",
   "id": "7d9aaed9",
   "metadata": {},
   "source": [
    "### Comparison Operations "
   ]
  },
  {
   "cell_type": "code",
   "execution_count": 52,
   "id": "def1cd90",
   "metadata": {},
   "outputs": [
    {
     "name": "stdout",
     "output_type": "stream",
     "text": [
      "Equal to: False\n",
      "Not equal to: True\n",
      "Greater than: True\n",
      "Less than: False\n",
      "Greater than or equal to: True\n",
      "Less than or equal to: False\n"
     ]
    }
   ],
   "source": [
    "a = 5\n",
    "b = 3\n",
    "\n",
    "# Equal to\n",
    "print(\"Equal to:\", a == b)\n",
    "\n",
    "# Not equal to\n",
    "print(\"Not equal to:\", a != b)\n",
    "\n",
    "# Greater than\n",
    "print(\"Greater than:\", a > b)\n",
    "\n",
    "# Less than\n",
    "print(\"Less than:\", a < b)\n",
    "\n",
    "# Greater than or equal to\n",
    "print(\"Greater than or equal to:\", a >= b)\n",
    "\n",
    "# Less than or equal to\n",
    "print(\"Less than or equal to:\", a <= b)\n"
   ]
  },
  {
   "cell_type": "markdown",
   "id": "716f2a89",
   "metadata": {},
   "source": [
    "### Bitwise Operations"
   ]
  },
  {
   "cell_type": "code",
   "execution_count": 53,
   "id": "458b5227",
   "metadata": {},
   "outputs": [
    {
     "name": "stdout",
     "output_type": "stream",
     "text": [
      "Bitwise AND: 1\n",
      "Bitwise OR: 7\n",
      "Bitwise XOR: 6\n",
      "Bitwise NOT of a: -6\n",
      "Bitwise Left Shift: 10\n",
      "Bitwise Right Shift: 2\n"
     ]
    }
   ],
   "source": [
    "# Bitwise AND\n",
    "a = 5  # 101\n",
    "b = 3  # 011\n",
    "result_and = a & b  # 001\n",
    "print(\"Bitwise AND:\", result_and)\n",
    "\n",
    "# Bitwise OR\n",
    "result_or = a | b  # 111\n",
    "print(\"Bitwise OR:\", result_or)\n",
    "\n",
    "# Bitwise XOR\n",
    "result_xor = a ^ b  # 110\n",
    "print(\"Bitwise XOR:\", result_xor)\n",
    "\n",
    "# Bitwise NOT\n",
    "result_not_a = ~a  # -(a+1)\n",
    "print(\"Bitwise NOT of a:\", result_not_a)\n",
    "\n",
    "# Bitwise Left Shift\n",
    "result_left_shift = a << 1  # 1010\n",
    "print(\"Bitwise Left Shift:\", result_left_shift)\n",
    "\n",
    "# Bitwise Right Shift\n",
    "result_right_shift = a >> 1  # 10\n",
    "print(\"Bitwise Right Shift:\", result_right_shift)\n"
   ]
  },
  {
   "cell_type": "markdown",
   "id": "d174c43e",
   "metadata": {},
   "source": [
    "### IF - For - While"
   ]
  },
  {
   "cell_type": "code",
   "execution_count": 54,
   "id": "6856b276",
   "metadata": {},
   "outputs": [
    {
     "name": "stdout",
     "output_type": "stream",
     "text": [
      "Positive number\n",
      "I love apples\n",
      "I love bananas\n",
      "I love cherrys\n",
      "The factorial of 5 is 120\n"
     ]
    }
   ],
   "source": [
    "# if statement\n",
    "num = 3\n",
    "if num > 0:\n",
    "    print(\"Positive number\")\n",
    "elif num == 0:\n",
    "    print(\"Zero\")\n",
    "else:\n",
    "    print(\"Negative number\")\n",
    "\n",
    "# for loop\n",
    "fruits = [\"apple\", \"banana\", \"cherry\"]\n",
    "for fruit in fruits:\n",
    "    print(f\"I love {fruit}s\")\n",
    "\n",
    "# while loop\n",
    "num = 5\n",
    "factorial = 1\n",
    "i = 1\n",
    "while i <= num:\n",
    "    factorial *= i\n",
    "    i += 1\n",
    "print(f\"The factorial of {num} is {factorial}\")\n"
   ]
  },
  {
   "cell_type": "markdown",
   "id": "d8fbf54d",
   "metadata": {},
   "source": [
    "### Function"
   ]
  },
  {
   "cell_type": "code",
   "execution_count": 55,
   "id": "e82c403a",
   "metadata": {},
   "outputs": [
    {
     "name": "stdout",
     "output_type": "stream",
     "text": [
      "Prime numbers between 1 and 20:\n",
      "2 3 5 7 11 13 17 19 \n"
     ]
    }
   ],
   "source": [
    "# Function to check if a number is prime\n",
    "def is_prime(num):\n",
    "    \"\"\"\n",
    "    This function checks if a number is prime.\n",
    "    \"\"\"\n",
    "    if num <= 1:\n",
    "        return False\n",
    "    for i in range(2, int(num**0.5) + 1):\n",
    "        if num % i == 0:\n",
    "            return False\n",
    "    return True\n",
    "\n",
    "# Function to print all prime numbers within a range\n",
    "def print_primes(start, end):\n",
    "    \"\"\"\n",
    "    This function prints all prime numbers within a specified range.\n",
    "    \"\"\"\n",
    "    print(f\"Prime numbers between {start} and {end}:\")\n",
    "    for num in range(start, end + 1):\n",
    "        if is_prime(num):\n",
    "            print(num, end=\" \")\n",
    "    print()\n",
    "\n",
    "# Calling the function to print prime numbers between 1 and 20\n",
    "print_primes(1, 20)\n"
   ]
  },
  {
   "cell_type": "markdown",
   "id": "575c943d",
   "metadata": {},
   "source": [
    "### Math"
   ]
  },
  {
   "cell_type": "code",
   "execution_count": 45,
   "id": "13d36a5f",
   "metadata": {},
   "outputs": [
    {
     "name": "stdout",
     "output_type": "stream",
     "text": [
      "0.7071067811865476\n",
      "0.7071067811865476\n"
     ]
    }
   ],
   "source": [
    "# Trigonometric Functions\n",
    "angle = math.pi / 4\n",
    "print(math.cos(angle))  # Cosine\n",
    "print(math.sin(angle))  # Sine"
   ]
  },
  {
   "cell_type": "code",
   "execution_count": 46,
   "id": "6a10d8c8",
   "metadata": {},
   "outputs": [
    {
     "name": "stdout",
     "output_type": "stream",
     "text": [
      "4.0\n"
     ]
    }
   ],
   "source": [
    "# Other Mathematical Operations\n",
    "num = 16\n",
    "print(math.sqrt(num))  # Square root"
   ]
  },
  {
   "cell_type": "markdown",
   "id": "d616b987",
   "metadata": {},
   "source": [
    "Example: The code in which the elements received from the user are added to the list as many times as the number entered by the user and the average of the values in the list is calculated."
   ]
  },
  {
   "cell_type": "code",
   "execution_count": 61,
   "id": "85db8e57-6b22-4e74-a185-29b5274f5563",
   "metadata": {},
   "outputs": [
    {
     "name": "stdout",
     "output_type": "stream",
     "text": [
      "How many numbers to enter: 3\n",
      "Enter the number: 24\n",
      "Enter the number: 35\n",
      "Enter the number: 78\n",
      "Average of entered numbers:  45.67\n"
     ]
    }
   ],
   "source": [
    "n = int(input(\"How many numbers to enter: \"))\n",
    "x = []\n",
    "for i in range(0,n):\n",
    "    elem = int(input(\"Enter the number: \"))\n",
    "    x.append(elem)\n",
    "avg = sum(x) / n\n",
    "print(\"Average of entered numbers: \", round(avg,2))"
   ]
  },
  {
   "cell_type": "code",
   "execution_count": null,
   "id": "b9b31b7d",
   "metadata": {},
   "outputs": [],
   "source": []
  }
 ],
 "metadata": {
  "kernelspec": {
   "display_name": "Python 3 (ipykernel)",
   "language": "python",
   "name": "python3"
  },
  "language_info": {
   "codemirror_mode": {
    "name": "ipython",
    "version": 3
   },
   "file_extension": ".py",
   "mimetype": "text/x-python",
   "name": "python",
   "nbconvert_exporter": "python",
   "pygments_lexer": "ipython3",
   "version": "3.11.5"
  }
 },
 "nbformat": 4,
 "nbformat_minor": 5
}
